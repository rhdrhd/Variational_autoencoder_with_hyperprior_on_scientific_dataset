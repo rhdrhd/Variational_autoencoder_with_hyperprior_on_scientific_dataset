{
 "cells": [
  {
   "cell_type": "code",
   "execution_count": 10,
   "id": "704dfa1d",
   "metadata": {},
   "outputs": [
    {
     "data": {
      "text/html": [
       "Finishing last run (ID:1nkwsut6) before initializing another..."
      ],
      "text/plain": [
       "<IPython.core.display.HTML object>"
      ]
     },
     "metadata": {},
     "output_type": "display_data"
    },
    {
     "data": {
      "text/html": [
       "Waiting for W&B process to finish... <strong style=\"color:green\">(success).</strong>"
      ],
      "text/plain": [
       "<IPython.core.display.HTML object>"
      ]
     },
     "metadata": {},
     "output_type": "display_data"
    },
    {
     "data": {
      "application/vnd.jupyter.widget-view+json": {
       "model_id": "e943a8568c124e939409a37b62219796",
       "version_major": 2,
       "version_minor": 0
      },
      "text/plain": [
       "VBox(children=(Label(value='0.001 MB of 0.001 MB uploaded (0.000 MB deduped)\\r'), FloatProgress(value=1.0, max…"
      ]
     },
     "metadata": {},
     "output_type": "display_data"
    },
    {
     "data": {
      "text/html": [
       "<style>\n",
       "    table.wandb td:nth-child(1) { padding: 0 10px; text-align: left ; width: auto;} td:nth-child(2) {text-align: left ; width: 100%}\n",
       "    .wandb-row { display: flex; flex-direction: row; flex-wrap: wrap; justify-content: flex-start; width: 100% }\n",
       "    .wandb-col { display: flex; flex-direction: column; flex-basis: 100%; flex: 1; padding: 10px; }\n",
       "    </style>\n",
       "<div class=\"wandb-row\"><div class=\"wandb-col\"><h3>Run history:</h3><br/><table class=\"wandb\"><tr><td>epoch</td><td>▁▁▁▁▁▁▁▁▁▁▁▁▁▁▁▁▁▁▁▁▁▁▁▁▁▁▁▁▁▁▁▁▁▁▁▁▁▁▁▁</td></tr><tr><td>loss</td><td>▄▄▃▁▂▂▂▂▃▁▂▂▃▃▁▃▂▁▄▄▃▄▄▇▆▆▃▄▇▆▅▅█▄▇▆▇▆▆▅</td></tr></table><br/></div><div class=\"wandb-col\"><h3>Run summary:</h3><br/><table class=\"wandb\"><tr><td>epoch</td><td>10</td></tr><tr><td>loss</td><td>0.93505</td></tr></table><br/></div></div>"
      ],
      "text/plain": [
       "<IPython.core.display.HTML object>"
      ]
     },
     "metadata": {},
     "output_type": "display_data"
    },
    {
     "data": {
      "text/html": [
       "Synced <strong style=\"color:#cdcd00\">glad-forest-2</strong>: <a href=\"https://wandb.ai/zirui23/simple_auto/runs/1nkwsut6\" target=\"_blank\">https://wandb.ai/zirui23/simple_auto/runs/1nkwsut6</a><br/>Synced 6 W&B file(s), 0 media file(s), 0 artifact file(s) and 0 other file(s)"
      ],
      "text/plain": [
       "<IPython.core.display.HTML object>"
      ]
     },
     "metadata": {},
     "output_type": "display_data"
    },
    {
     "data": {
      "text/html": [
       "Find logs at: <code>./wandb/run-20221115_150953-1nkwsut6/logs</code>"
      ],
      "text/plain": [
       "<IPython.core.display.HTML object>"
      ]
     },
     "metadata": {},
     "output_type": "display_data"
    },
    {
     "data": {
      "text/html": [
       "Successfully finished last run (ID:1nkwsut6). Initializing new run:<br/>"
      ],
      "text/plain": [
       "<IPython.core.display.HTML object>"
      ]
     },
     "metadata": {},
     "output_type": "display_data"
    },
    {
     "data": {
      "application/vnd.jupyter.widget-view+json": {
       "model_id": "519d8fc0eb104a559251ad6182de6b6d",
       "version_major": 2,
       "version_minor": 0
      },
      "text/plain": [
       "VBox(children=(Label(value='Waiting for wandb.init()...\\r'), FloatProgress(value=0.01675197916666586, max=1.0)…"
      ]
     },
     "metadata": {},
     "output_type": "display_data"
    },
    {
     "data": {
      "text/html": [
       "Tracking run with wandb version 0.13.5"
      ],
      "text/plain": [
       "<IPython.core.display.HTML object>"
      ]
     },
     "metadata": {},
     "output_type": "display_data"
    },
    {
     "data": {
      "text/html": [
       "Run data is saved locally in <code>/Users/zarius/Desktop/fyp_autoencoder/Variational_autoencoder_with_hyperprior_on_scientific_dataset/wandb/run-20221115_151425-1o0j6t8r</code>"
      ],
      "text/plain": [
       "<IPython.core.display.HTML object>"
      ]
     },
     "metadata": {},
     "output_type": "display_data"
    },
    {
     "data": {
      "text/html": [
       "Syncing run <strong><a href=\"https://wandb.ai/zirui23/simple_auto/runs/1o0j6t8r\" target=\"_blank\">skilled-jazz-3</a></strong> to <a href=\"https://wandb.ai/zirui23/simple_auto\" target=\"_blank\">Weights & Biases</a> (<a href=\"https://wandb.me/run\" target=\"_blank\">docs</a>)<br/>"
      ],
      "text/plain": [
       "<IPython.core.display.HTML object>"
      ]
     },
     "metadata": {},
     "output_type": "display_data"
    }
   ],
   "source": [
    "import torch\n",
    "from matplotlib import pyplot as plt\n",
    "from torch.utils.data import DataLoader\n",
    "from torchvision import transforms\n",
    "from torchvision.datasets import MNIST\n",
    "from torch import nn\n",
    "import wandb\n",
    "\n",
    "wandb.init(project='simple_auto', entity='zirui23')\n",
    "\n",
    "class AutoEncoder(nn.Module):\n",
    "    def __init__(self):\n",
    "        super().__init__()\n",
    "        self.encoder = nn.Sequential(\n",
    "            nn.Linear(28*28, 128),\n",
    "            nn.ReLU(True),\n",
    "            nn.Linear(128, 32),\n",
    "            nn.ReLU(True),\n",
    "            nn.Linear(32,4))\n",
    "        self.decoder = nn.Sequential(\n",
    "            nn.Linear(4,32),\n",
    "            nn.ReLU(True),\n",
    "            nn.Linear(32,128),\n",
    "            nn.ReLU(True),\n",
    "            nn.Linear(128,28*28),\n",
    "            nn.ReLU()\n",
    "        )\n",
    "\n",
    "    def forward(self, x):\n",
    "            latent = self.encoder(x)\n",
    "            x = self.decoder(latent)\n",
    "            return x, latent\n"
   ]
  },
  {
   "cell_type": "code",
   "execution_count": 11,
   "id": "67ecd50a",
   "metadata": {},
   "outputs": [
    {
     "name": "stdout",
     "output_type": "stream",
     "text": [
      "epoch [1/10], loss:0.9094820618629456\n",
      "epoch [2/10], loss:0.9058895707130432\n",
      "epoch [3/10], loss:0.9044322371482849\n",
      "epoch [4/10], loss:0.9026294350624084\n",
      "epoch [5/10], loss:0.9029788374900818\n",
      "epoch [6/10], loss:0.9037801623344421\n",
      "epoch [7/10], loss:0.9028931260108948\n",
      "epoch [8/10], loss:0.9024672508239746\n",
      "epoch [9/10], loss:0.9014488458633423\n",
      "epoch [10/10], loss:0.9014281630516052\n"
     ]
    }
   ],
   "source": [
    "batch_size = 32\n",
    "learning_rate = 2e-3\n",
    "num_epochs = 10\n",
    "\n",
    "\n",
    "data_train = MNIST('~/mnist_data', train=True, download=True,\n",
    "                   transform=transforms.Compose([transforms.ToTensor(),transforms.Normalize([0.5],[0.5])]))\n",
    "data_loader = DataLoader(data_train, batch_size=batch_size, shuffle = False)\n",
    "\n",
    "model = AutoEncoder()\n",
    "criterion = nn.MSELoss()\n",
    "optimizer = torch.optim.AdamW(\n",
    "    model.parameters(), lr=learning_rate)\n",
    "\n",
    "import matplotlib.pyplot as plt\n",
    "\n",
    "for epoch in range(num_epochs): \n",
    "    for data in data_loader:\n",
    "        #print(data[0].size())\n",
    "        img, labels = data\n",
    "        #print(img.size())\n",
    "        img = img.view(img.size(0),-1)\n",
    "        #print(img.size())\n",
    "        \n",
    "        output, latent = model(img)\n",
    "        loss = criterion(output,img)\n",
    "        loss.backward()\n",
    "        optimizer.step()\n",
    "        optimizer.zero_grad()\n",
    "        wandb.log({'epoch': num_epochs, 'loss': loss})\n",
    "        \n",
    "    print(f'epoch [{epoch + 1}/{num_epochs}], loss:{loss.data.item()}')\n"
   ]
  },
  {
   "cell_type": "code",
   "execution_count": 12,
   "id": "a742d3e8",
   "metadata": {},
   "outputs": [
    {
     "name": "stdout",
     "output_type": "stream",
     "text": [
      "torch.Size([32, 4])\n",
      "torch.Size([32, 784])\n",
      "torch.Size([28, 28])\n"
     ]
    },
    {
     "data": {
      "image/png": "[encoded data removed]",
      "text/plain": [
       "<Figure size 640x480 with 1 Axes>"
      ]
     },
     "metadata": {},
     "output_type": "display_data"
    },
    {
     "name": "stdout",
     "output_type": "stream",
     "text": [
      "torch.Size([1, 2, 2])\n"
     ]
    },
    {
     "data": {
      "image/png": "[encoded data removed]",
      "text/plain": [
       "<Figure size 640x480 with 1 Axes>"
      ]
     },
     "metadata": {},
     "output_type": "display_data"
    },
    {
     "name": "stdout",
     "output_type": "stream",
     "text": [
      "torch.Size([1, 28, 28])\n"
     ]
    },
    {
     "data": {
      "image/png": "[encoded data removed]",
      "text/plain": [
       "<Figure size 640x480 with 1 Axes>"
      ]
     },
     "metadata": {},
     "output_type": "display_data"
    }
   ],
   "source": [
    "import numpy as np\n",
    "print(latent.size())\n",
    "print(img.size())\n",
    "\n",
    "\n",
    "img = img.view(32,28,28)\n",
    "print(img[0].size())\n",
    "display = np.array(img[0].detach(),dtype='float')\n",
    "pixels = display.reshape((28, 28))\n",
    "\n",
    "for i in range(10):\n",
    "    #print(i)\n",
    "    display_1 = np.array(img[i].detach(),dtype='float')\n",
    "    pixels_1 = display_1.reshape((28, 28))\n",
    "    pixels= np.concatenate((pixels,pixels_1),axis=1)\n",
    "    \n",
    "plt.imshow(pixels, cmap='gray')\n",
    "plt.show()\n",
    "\n",
    "latent = latent.view(32,1,2,2)\n",
    "print(latent[0].size())\n",
    "display = np.array(latent[0].detach(),dtype='float')\n",
    "pixels = display.reshape((2, 2))\n",
    "\n",
    "for i in range(10):\n",
    "    #print(i)\n",
    "    display_1 = np.array(latent[i].detach(),dtype='float')\n",
    "    pixels_1 = display_1.reshape((2, 2))\n",
    "    pixels= np.concatenate((pixels,pixels_1),axis=1)\n",
    "    \n",
    "plt.imshow(pixels, cmap='gray')\n",
    "plt.show()\n",
    "\n",
    "\n",
    "output = output.view(32,1, 28,28)\n",
    "print(output[0].size())\n",
    "display = np.array(output[0].detach(),dtype='float')\n",
    "pixels = display.reshape((28, 28))\n",
    "\n",
    "for i in range(10):\n",
    "    #print(i)\n",
    "    display_1 = np.array(output[i].detach(),dtype='float')\n",
    "    pixels_1 = display_1.reshape((28, 28))\n",
    "    pixels= np.concatenate((pixels,pixels_1),axis=1)\n",
    "    \n",
    "plt.imshow(pixels, cmap='gray')\n",
    "plt.show()\n"
   ]
  },
  {
   "cell_type": "code",
   "execution_count": 6,
   "id": "4c7c4142",
   "metadata": {},
   "outputs": [
    {
     "data": {
      "text/plain": [
       "[]"
      ]
     },
     "execution_count": 6,
     "metadata": {},
     "output_type": "execute_result"
    }
   ],
   "source": [
    "wandb.watch(model)"
   ]
  },
  {
   "cell_type": "code",
   "execution_count": null,
   "id": "74071205",
   "metadata": {},
   "outputs": [],
   "source": []
  }
 ],
 "metadata": {
  "kernelspec": {
   "display_name": "Python 3 (ipykernel)",
   "language": "python",
   "name": "python3"
  },
  "language_info": {
   "codemirror_mode": {
    "name": "ipython",
    "version": 3
   },
   "file_extension": ".py",
   "mimetype": "text/x-python",
   "name": "python",
   "nbconvert_exporter": "python",
   "pygments_lexer": "ipython3",
   "version": "3.9.12"
  }
 },
 "nbformat": 4,
 "nbformat_minor": 5
}
